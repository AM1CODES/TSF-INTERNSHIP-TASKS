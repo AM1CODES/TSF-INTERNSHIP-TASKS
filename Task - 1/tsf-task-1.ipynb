{
 "cells": [
  {
   "cell_type": "markdown",
   "metadata": {
    "papermill": {
     "duration": 0.017122,
     "end_time": "2020-12-03T04:37:20.076102",
     "exception": false,
     "start_time": "2020-12-03T04:37:20.058980",
     "status": "completed"
    },
    "tags": []
   },
   "source": [
    "TSF - TASK-1\n",
    "---\n",
    "Predict the percentage of a student based on the no. of study hours using Linear Regression."
   ]
  },
  {
   "cell_type": "markdown",
   "metadata": {
    "papermill": {
     "duration": 0.014475,
     "end_time": "2020-12-03T04:37:20.105454",
     "exception": false,
     "start_time": "2020-12-03T04:37:20.090979",
     "status": "completed"
    },
    "tags": []
   },
   "source": [
    "Importing Project Dependencies\n",
    "---"
   ]
  },
  {
   "cell_type": "code",
   "execution_count": 1,
   "metadata": {
    "_cell_guid": "b1076dfc-b9ad-4769-8c92-a6c4dae69d19",
    "_uuid": "8f2839f25d086af736a60e9eeb907d3b93b6e0e5",
    "execution": {
     "iopub.execute_input": "2020-12-03T04:37:20.142261Z",
     "iopub.status.busy": "2020-12-03T04:37:20.141630Z",
     "iopub.status.idle": "2020-12-03T04:37:21.403229Z",
     "shell.execute_reply": "2020-12-03T04:37:21.402421Z"
    },
    "papermill": {
     "duration": 1.282967,
     "end_time": "2020-12-03T04:37:21.403380",
     "exception": false,
     "start_time": "2020-12-03T04:37:20.120413",
     "status": "completed"
    },
    "tags": []
   },
   "outputs": [],
   "source": [
    "import numpy as np \n",
    "import pandas as pd \n",
    "import os\n",
    "import matplotlib.pyplot as plt\n",
    "import seaborn as sns"
   ]
  },
  {
   "cell_type": "code",
   "execution_count": 2,
   "metadata": {
    "_cell_guid": "79c7e3d0-c299-4dcb-8224-4455121ee9b0",
    "_uuid": "d629ff2d2480ee46fbb7e2d37f6b5fab8052498a",
    "execution": {
     "iopub.execute_input": "2020-12-03T04:37:21.459820Z",
     "iopub.status.busy": "2020-12-03T04:37:21.458663Z",
     "iopub.status.idle": "2020-12-03T04:37:21.469658Z",
     "shell.execute_reply": "2020-12-03T04:37:21.469112Z"
    },
    "papermill": {
     "duration": 0.043323,
     "end_time": "2020-12-03T04:37:21.469799",
     "exception": false,
     "start_time": "2020-12-03T04:37:21.426476",
     "status": "completed"
    },
    "tags": []
   },
   "outputs": [],
   "source": [
    "df = pd.read_csv('/kaggle/input/scores-tsf/Scores.csv')"
   ]
  },
  {
   "cell_type": "code",
   "execution_count": 3,
   "metadata": {
    "execution": {
     "iopub.execute_input": "2020-12-03T04:37:21.517998Z",
     "iopub.status.busy": "2020-12-03T04:37:21.510154Z",
     "iopub.status.idle": "2020-12-03T04:37:21.528417Z",
     "shell.execute_reply": "2020-12-03T04:37:21.527773Z"
    },
    "papermill": {
     "duration": 0.043441,
     "end_time": "2020-12-03T04:37:21.528523",
     "exception": false,
     "start_time": "2020-12-03T04:37:21.485082",
     "status": "completed"
    },
    "tags": []
   },
   "outputs": [
    {
     "data": {
      "text/html": [
       "<div>\n",
       "<style scoped>\n",
       "    .dataframe tbody tr th:only-of-type {\n",
       "        vertical-align: middle;\n",
       "    }\n",
       "\n",
       "    .dataframe tbody tr th {\n",
       "        vertical-align: top;\n",
       "    }\n",
       "\n",
       "    .dataframe thead th {\n",
       "        text-align: right;\n",
       "    }\n",
       "</style>\n",
       "<table border=\"1\" class=\"dataframe\">\n",
       "  <thead>\n",
       "    <tr style=\"text-align: right;\">\n",
       "      <th></th>\n",
       "      <th>Hours</th>\n",
       "      <th>Scores</th>\n",
       "    </tr>\n",
       "  </thead>\n",
       "  <tbody>\n",
       "    <tr>\n",
       "      <th>0</th>\n",
       "      <td>2.5</td>\n",
       "      <td>21</td>\n",
       "    </tr>\n",
       "    <tr>\n",
       "      <th>1</th>\n",
       "      <td>5.1</td>\n",
       "      <td>47</td>\n",
       "    </tr>\n",
       "    <tr>\n",
       "      <th>2</th>\n",
       "      <td>3.2</td>\n",
       "      <td>27</td>\n",
       "    </tr>\n",
       "    <tr>\n",
       "      <th>3</th>\n",
       "      <td>8.5</td>\n",
       "      <td>75</td>\n",
       "    </tr>\n",
       "    <tr>\n",
       "      <th>4</th>\n",
       "      <td>3.5</td>\n",
       "      <td>30</td>\n",
       "    </tr>\n",
       "  </tbody>\n",
       "</table>\n",
       "</div>"
      ],
      "text/plain": [
       "   Hours  Scores\n",
       "0    2.5      21\n",
       "1    5.1      47\n",
       "2    3.2      27\n",
       "3    8.5      75\n",
       "4    3.5      30"
      ]
     },
     "execution_count": 3,
     "metadata": {},
     "output_type": "execute_result"
    }
   ],
   "source": [
    "df.head()"
   ]
  },
  {
   "cell_type": "code",
   "execution_count": 4,
   "metadata": {
    "execution": {
     "iopub.execute_input": "2020-12-03T04:37:21.568767Z",
     "iopub.status.busy": "2020-12-03T04:37:21.567873Z",
     "iopub.status.idle": "2020-12-03T04:37:21.573277Z",
     "shell.execute_reply": "2020-12-03T04:37:21.572373Z"
    },
    "papermill": {
     "duration": 0.028639,
     "end_time": "2020-12-03T04:37:21.573417",
     "exception": false,
     "start_time": "2020-12-03T04:37:21.544778",
     "status": "completed"
    },
    "tags": []
   },
   "outputs": [
    {
     "data": {
      "text/plain": [
       "Hours     0\n",
       "Scores    0\n",
       "dtype: int64"
      ]
     },
     "execution_count": 4,
     "metadata": {},
     "output_type": "execute_result"
    }
   ],
   "source": [
    "df.isnull().sum()"
   ]
  },
  {
   "cell_type": "code",
   "execution_count": 5,
   "metadata": {
    "execution": {
     "iopub.execute_input": "2020-12-03T04:37:21.629569Z",
     "iopub.status.busy": "2020-12-03T04:37:21.628789Z",
     "iopub.status.idle": "2020-12-03T04:37:21.635080Z",
     "shell.execute_reply": "2020-12-03T04:37:21.634438Z"
    },
    "papermill": {
     "duration": 0.037296,
     "end_time": "2020-12-03T04:37:21.635195",
     "exception": false,
     "start_time": "2020-12-03T04:37:21.597899",
     "status": "completed"
    },
    "tags": []
   },
   "outputs": [
    {
     "data": {
      "text/plain": [
       "Hours     float64\n",
       "Scores      int64\n",
       "dtype: object"
      ]
     },
     "execution_count": 5,
     "metadata": {},
     "output_type": "execute_result"
    }
   ],
   "source": [
    "df.dtypes"
   ]
  },
  {
   "cell_type": "markdown",
   "metadata": {
    "papermill": {
     "duration": 0.016742,
     "end_time": "2020-12-03T04:37:21.668896",
     "exception": false,
     "start_time": "2020-12-03T04:37:21.652154",
     "status": "completed"
    },
    "tags": []
   },
   "source": [
    "Exploratory Data Analysis\n",
    "---"
   ]
  },
  {
   "cell_type": "code",
   "execution_count": 6,
   "metadata": {
    "execution": {
     "iopub.execute_input": "2020-12-03T04:37:21.710285Z",
     "iopub.status.busy": "2020-12-03T04:37:21.709583Z",
     "iopub.status.idle": "2020-12-03T04:37:21.974896Z",
     "shell.execute_reply": "2020-12-03T04:37:21.974330Z"
    },
    "papermill": {
     "duration": 0.289394,
     "end_time": "2020-12-03T04:37:21.975009",
     "exception": false,
     "start_time": "2020-12-03T04:37:21.685615",
     "status": "completed"
    },
    "tags": []
   },
   "outputs": [
    {
     "data": {
      "image/png": "[encoded data removed]",
      "text/plain": [
       "<Figure size 1440x504 with 1 Axes>"
      ]
     },
     "metadata": {},
     "output_type": "display_data"
    }
   ],
   "source": [
    "plt.style.use('dark_background') \n",
    "plt.figure(figsize = (20,7))\n",
    "df['Scores'].head(10).plot.bar(color = 'orangered')\n",
    "plt.title('Comparing the scores of the students with the amount of hours they have studied')\n",
    "plt.xlabel('Hours')\n",
    "plt.ylabel('Scores')\n",
    "plt.show()  "
   ]
  },
  {
   "cell_type": "code",
   "execution_count": 7,
   "metadata": {
    "execution": {
     "iopub.execute_input": "2020-12-03T04:37:22.033549Z",
     "iopub.status.busy": "2020-12-03T04:37:22.031720Z",
     "iopub.status.idle": "2020-12-03T04:37:22.330003Z",
     "shell.execute_reply": "2020-12-03T04:37:22.328984Z"
    },
    "papermill": {
     "duration": 0.3371,
     "end_time": "2020-12-03T04:37:22.330119",
     "exception": false,
     "start_time": "2020-12-03T04:37:21.993019",
     "status": "completed"
    },
    "tags": []
   },
   "outputs": [
    {
     "data": {
      "image/png": "[encoded data removed]",
      "text/plain": [
       "<Figure size 864x576 with 1 Axes>"
      ]
     },
     "metadata": {},
     "output_type": "display_data"
    }
   ],
   "source": [
    "plt.figure(figsize=(12,8)) #comparing streaming time v/s followers gained\n",
    "sns.lineplot(df['Hours'], df['Scores'], palette = \"Set1\")\n",
    "plt.title('The Amount of Time spent studying v/s The Score achieved', fontsize = 20)\n",
    "plt.show()"
   ]
  },
  {
   "cell_type": "code",
   "execution_count": 8,
   "metadata": {
    "execution": {
     "iopub.execute_input": "2020-12-03T04:37:22.414900Z",
     "iopub.status.busy": "2020-12-03T04:37:22.399227Z",
     "iopub.status.idle": "2020-12-03T04:37:22.609475Z",
     "shell.execute_reply": "2020-12-03T04:37:22.608916Z"
    },
    "papermill": {
     "duration": 0.251971,
     "end_time": "2020-12-03T04:37:22.609584",
     "exception": false,
     "start_time": "2020-12-03T04:37:22.357613",
     "status": "completed"
    },
    "tags": []
   },
   "outputs": [
    {
     "data": {
      "image/png": "[encoded data removed]",
      "text/plain": [
       "<Figure size 720x360 with 2 Axes>"
      ]
     },
     "metadata": {},
     "output_type": "display_data"
    }
   ],
   "source": [
    "plt.figure(figsize=(10,5))\n",
    "sns.heatmap(df[['Scores','Hours']].corr(), annot = True)\n",
    "plt.title('Overall relation between columns of the Dataset', fontsize = 20)\n",
    "plt.show()"
   ]
  },
  {
   "cell_type": "code",
   "execution_count": 9,
   "metadata": {
    "execution": {
     "iopub.execute_input": "2020-12-03T04:37:22.656218Z",
     "iopub.status.busy": "2020-12-03T04:37:22.655422Z",
     "iopub.status.idle": "2020-12-03T04:37:22.660414Z",
     "shell.execute_reply": "2020-12-03T04:37:22.659636Z"
    },
    "papermill": {
     "duration": 0.030943,
     "end_time": "2020-12-03T04:37:22.660552",
     "exception": false,
     "start_time": "2020-12-03T04:37:22.629609",
     "status": "completed"
    },
    "tags": []
   },
   "outputs": [],
   "source": [
    "def studytime(x): # to get the scores of the student who studies for a particular time\n",
    "    return df.loc[df['Hours']==x]"
   ]
  },
  {
   "cell_type": "code",
   "execution_count": 10,
   "metadata": {
    "execution": {
     "iopub.execute_input": "2020-12-03T04:37:22.731195Z",
     "iopub.status.busy": "2020-12-03T04:37:22.730405Z",
     "iopub.status.idle": "2020-12-03T04:37:22.735780Z",
     "shell.execute_reply": "2020-12-03T04:37:22.734928Z"
    },
    "papermill": {
     "duration": 0.04517,
     "end_time": "2020-12-03T04:37:22.735923",
     "exception": false,
     "start_time": "2020-12-03T04:37:22.690753",
     "status": "completed"
    },
    "tags": []
   },
   "outputs": [
    {
     "data": {
      "text/html": [
       "<div>\n",
       "<style scoped>\n",
       "    .dataframe tbody tr th:only-of-type {\n",
       "        vertical-align: middle;\n",
       "    }\n",
       "\n",
       "    .dataframe tbody tr th {\n",
       "        vertical-align: top;\n",
       "    }\n",
       "\n",
       "    .dataframe thead th {\n",
       "        text-align: right;\n",
       "    }\n",
       "</style>\n",
       "<table border=\"1\" class=\"dataframe\">\n",
       "  <thead>\n",
       "    <tr style=\"text-align: right;\">\n",
       "      <th></th>\n",
       "      <th>Hours</th>\n",
       "      <th>Scores</th>\n",
       "    </tr>\n",
       "  </thead>\n",
       "  <tbody>\n",
       "    <tr>\n",
       "      <th>1</th>\n",
       "      <td>5.1</td>\n",
       "      <td>47</td>\n",
       "    </tr>\n",
       "  </tbody>\n",
       "</table>\n",
       "</div>"
      ],
      "text/plain": [
       "   Hours  Scores\n",
       "1    5.1      47"
      ]
     },
     "execution_count": 10,
     "metadata": {},
     "output_type": "execute_result"
    }
   ],
   "source": [
    "studytime(5.1)"
   ]
  },
  {
   "cell_type": "markdown",
   "metadata": {
    "papermill": {
     "duration": 0.03058,
     "end_time": "2020-12-03T04:37:22.797468",
     "exception": false,
     "start_time": "2020-12-03T04:37:22.766888",
     "status": "completed"
    },
    "tags": []
   },
   "source": [
    "Modeling\n",
    "---"
   ]
  },
  {
   "cell_type": "code",
   "execution_count": 11,
   "metadata": {
    "execution": {
     "iopub.execute_input": "2020-12-03T04:37:22.865407Z",
     "iopub.status.busy": "2020-12-03T04:37:22.864732Z",
     "iopub.status.idle": "2020-12-03T04:37:23.177331Z",
     "shell.execute_reply": "2020-12-03T04:37:23.176774Z"
    },
    "papermill": {
     "duration": 0.348908,
     "end_time": "2020-12-03T04:37:23.177451",
     "exception": false,
     "start_time": "2020-12-03T04:37:22.828543",
     "status": "completed"
    },
    "tags": []
   },
   "outputs": [],
   "source": [
    "from sklearn.linear_model import LinearRegression\n",
    "from sklearn.model_selection import train_test_split\n",
    "from sklearn.preprocessing import StandardScaler"
   ]
  },
  {
   "cell_type": "code",
   "execution_count": 12,
   "metadata": {
    "execution": {
     "iopub.execute_input": "2020-12-03T04:37:23.228444Z",
     "iopub.status.busy": "2020-12-03T04:37:23.227776Z",
     "iopub.status.idle": "2020-12-03T04:37:23.231985Z",
     "shell.execute_reply": "2020-12-03T04:37:23.231296Z"
    },
    "papermill": {
     "duration": 0.032427,
     "end_time": "2020-12-03T04:37:23.232099",
     "exception": false,
     "start_time": "2020-12-03T04:37:23.199672",
     "status": "completed"
    },
    "tags": []
   },
   "outputs": [],
   "source": [
    "X = df.iloc[:, :-1].values  \n",
    "y = df.iloc[:, 1].values   "
   ]
  },
  {
   "cell_type": "code",
   "execution_count": 13,
   "metadata": {
    "execution": {
     "iopub.execute_input": "2020-12-03T04:37:23.283868Z",
     "iopub.status.busy": "2020-12-03T04:37:23.281801Z",
     "iopub.status.idle": "2020-12-03T04:37:23.287154Z",
     "shell.execute_reply": "2020-12-03T04:37:23.287625Z"
    },
    "papermill": {
     "duration": 0.034123,
     "end_time": "2020-12-03T04:37:23.287799",
     "exception": false,
     "start_time": "2020-12-03T04:37:23.253676",
     "status": "completed"
    },
    "tags": []
   },
   "outputs": [],
   "source": [
    "X_train,X_test,y_train,y_test = train_test_split(X,y,test_size = 0.1,random_state = 101)"
   ]
  },
  {
   "cell_type": "code",
   "execution_count": 14,
   "metadata": {
    "execution": {
     "iopub.execute_input": "2020-12-03T04:37:23.335185Z",
     "iopub.status.busy": "2020-12-03T04:37:23.334472Z",
     "iopub.status.idle": "2020-12-03T04:37:23.338925Z",
     "shell.execute_reply": "2020-12-03T04:37:23.338311Z"
    },
    "papermill": {
     "duration": 0.030143,
     "end_time": "2020-12-03T04:37:23.339040",
     "exception": false,
     "start_time": "2020-12-03T04:37:23.308897",
     "status": "completed"
    },
    "tags": []
   },
   "outputs": [],
   "source": [
    "#scaler = StandardScaler()\n",
    "#scaler.fit(X_train)\n",
    "#X_train = scaler.transform(X_train)\n",
    "#X_test = scaler.transform(X_test)"
   ]
  },
  {
   "cell_type": "code",
   "execution_count": 15,
   "metadata": {
    "execution": {
     "iopub.execute_input": "2020-12-03T04:37:23.421218Z",
     "iopub.status.busy": "2020-12-03T04:37:23.420406Z",
     "iopub.status.idle": "2020-12-03T04:37:23.427448Z",
     "shell.execute_reply": "2020-12-03T04:37:23.426784Z"
    },
    "papermill": {
     "duration": 0.066696,
     "end_time": "2020-12-03T04:37:23.427571",
     "exception": false,
     "start_time": "2020-12-03T04:37:23.360875",
     "status": "completed"
    },
    "tags": []
   },
   "outputs": [],
   "source": [
    "linear  = LinearRegression()\n",
    "linear.fit(X_train,y_train)\n",
    "pred = linear.predict(X_test)"
   ]
  },
  {
   "cell_type": "code",
   "execution_count": 16,
   "metadata": {
    "execution": {
     "iopub.execute_input": "2020-12-03T04:37:23.479721Z",
     "iopub.status.busy": "2020-12-03T04:37:23.478877Z",
     "iopub.status.idle": "2020-12-03T04:37:23.485414Z",
     "shell.execute_reply": "2020-12-03T04:37:23.484559Z"
    },
    "papermill": {
     "duration": 0.03588,
     "end_time": "2020-12-03T04:37:23.485545",
     "exception": false,
     "start_time": "2020-12-03T04:37:23.449665",
     "status": "completed"
    },
    "tags": []
   },
   "outputs": [
    {
     "name": "stdout",
     "output_type": "stream",
     "text": [
      "r2 score: 0.9508624143433742\n",
      "MSE : 30.301511154919243\n"
     ]
    }
   ],
   "source": [
    "from sklearn.metrics import r2_score, mean_squared_error\n",
    "print('r2 score: '+str(r2_score(y_test, pred)))\n",
    "print('MSE : '+str(mean_squared_error(y_test, pred)))"
   ]
  },
  {
   "cell_type": "code",
   "execution_count": 17,
   "metadata": {
    "execution": {
     "iopub.execute_input": "2020-12-03T04:37:23.543904Z",
     "iopub.status.busy": "2020-12-03T04:37:23.542479Z",
     "iopub.status.idle": "2020-12-03T04:37:23.715423Z",
     "shell.execute_reply": "2020-12-03T04:37:23.714770Z"
    },
    "papermill": {
     "duration": 0.207011,
     "end_time": "2020-12-03T04:37:23.715533",
     "exception": false,
     "start_time": "2020-12-03T04:37:23.508522",
     "status": "completed"
    },
    "tags": []
   },
   "outputs": [
    {
     "data": {
      "image/png": "[encoded data removed]",
      "text/plain": [
       "<Figure size 720x360 with 1 Axes>"
      ]
     },
     "metadata": {},
     "output_type": "display_data"
    }
   ],
   "source": [
    "plt.figure(figsize=(10,5))\n",
    "line = linear.coef_*X+linear.intercept_\n",
    "plt.scatter(X, y)\n",
    "plt.plot(X, line)\n",
    "plt.xlabel('Hours Studied')\n",
    "plt.ylabel('Student Scores')\n",
    "plt.title(\"Linear Prediction of Student Scoress  Based on the hours they studied\")\n",
    "plt.show()"
   ]
  },
  {
   "cell_type": "code",
   "execution_count": 18,
   "metadata": {
    "execution": {
     "iopub.execute_input": "2020-12-03T04:37:23.769870Z",
     "iopub.status.busy": "2020-12-03T04:37:23.768914Z",
     "iopub.status.idle": "2020-12-03T04:37:23.773911Z",
     "shell.execute_reply": "2020-12-03T04:37:23.774390Z"
    },
    "papermill": {
     "duration": 0.035641,
     "end_time": "2020-12-03T04:37:23.774538",
     "exception": false,
     "start_time": "2020-12-03T04:37:23.738897",
     "status": "completed"
    },
    "tags": []
   },
   "outputs": [
    {
     "name": "stdout",
     "output_type": "stream",
     "text": [
      "No of Hours = 9.25\n",
      "Predicted Score = 92.13236597362464\n"
     ]
    }
   ],
   "source": [
    "hours = 9.25\n",
    "scores = linear.predict([[hours]])\n",
    "print(\"No of Hours = {}\".format(hours))\n",
    "print(\"Predicted Score = {}\".format(scores[0]))"
   ]
  },
  {
   "cell_type": "markdown",
   "metadata": {
    "papermill": {
     "duration": 0.023398,
     "end_time": "2020-12-03T04:37:23.821947",
     "exception": false,
     "start_time": "2020-12-03T04:37:23.798549",
     "status": "completed"
    },
    "tags": []
   },
   "source": [
    "Result\n",
    "---\n",
    "From the data that we were given, we could see as the number of hours a student studied everyday increased, there was a increase in their scores. In some cases, we could see some students had high score with less study hours and a few had low scores even after studying for 9+ hours. This might be because some students could focus more and understand more so with less study time, they were still able to achieve good scores. In the other case, long study hours would have burnt the students out which might have led to low scores. This concludes my Analysis of Student scores based on their Study hours."
   ]
  },
  {
   "cell_type": "code",
   "execution_count": null,
   "metadata": {
    "papermill": {
     "duration": 0.023448,
     "end_time": "2020-12-03T04:37:23.869098",
     "exception": false,
     "start_time": "2020-12-03T04:37:23.845650",
     "status": "completed"
    },
    "tags": []
   },
   "outputs": [],
   "source": []
  }
 ],
 "metadata": {
  "kernelspec": {
   "display_name": "Python 3",
   "language": "python",
   "name": "python3"
  },
  "language_info": {
   "codemirror_mode": {
    "name": "ipython",
    "version": 3
   },
   "file_extension": ".py",
   "mimetype": "text/x-python",
   "name": "python",
   "nbconvert_exporter": "python",
   "pygments_lexer": "ipython3",
   "version": "3.7.6"
  },
  "papermill": {
   "duration": 9.922773,
   "end_time": "2020-12-03T04:37:24.002447",
   "environment_variables": {},
   "exception": null,
   "input_path": "__notebook__.ipynb",
   "output_path": "__notebook__.ipynb",
   "parameters": {},
   "start_time": "2020-12-03T04:37:14.079674",
   "version": "2.1.0"
  }
 },
 "nbformat": 4,
 "nbformat_minor": 4
}
